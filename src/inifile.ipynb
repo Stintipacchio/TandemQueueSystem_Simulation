{
 "cells": [
  {
   "cell_type": "code",
   "execution_count": 4,
   "metadata": {},
   "outputs": [
    {
     "name": "stdout",
     "output_type": "stream",
     "text": [
      "File di configurazione generato con successo: config_file.ini\n"
     ]
    }
   ],
   "source": [
    "import configparser\n",
    "from itertools import product\n",
    "\n",
    "# Definizione dei valori possibili per i parametri\n",
    "lambdas = [2.0, 1.4, 1.2, 1.0]\n",
    "m1_values = [0.4, 0.3, 0.25, 0.20]\n",
    "m2_values = [0.4, 0.3, 0.25, 0.20]\n",
    "p_ranges = [(1, 3), (4, 6), (8, 10)]\n",
    "v_ranges = [(14, 16), (18, 20), (20, 22)]\n",
    "N_values = [1, 2, 3, 4, 5]\n",
    "Strategy = [0, 1]\n",
    "\n",
    "# Creazione della classe ConfigParser personalizzata\n",
    "class MyConfigParser(configparser.ConfigParser):\n",
    "    def optionxform(self, optionstr):\n",
    "        return optionstr\n",
    "\n",
    "# Creazione del file di configurazione\n",
    "config = MyConfigParser(allow_no_value=True)\n",
    "\n",
    "# Sezione generale\n",
    "config['General'] = {\n",
    "    'network': 'TandemQueueSystem',\n",
    "    'sim-time-limit': '10000s',\n",
    "    'warmup-period': '500s',\n",
    "    'repeat': '20',\n",
    "    'output-vector-file': 'results.vec',\n",
    "    'output-scalar-file': 'results.sca',\n",
    "    '*.collector.collect': 'true',\n",
    "    '*.collector.vector-recording': 'true',\n",
    "    '*.collector.scalar-recording': 'true',\n",
    "    '*.collector.interval': '1s'\n",
    "}\n",
    "\n",
    "# Generazione delle configurazioni per ogni combinazione di parametri\n",
    "config_id = 1\n",
    "for lamb, m1, m2, (a, b), (c, d), N, strategy in product(lambdas, m1_values, m2_values, p_ranges, v_ranges, N_values, Strategy):\n",
    "    section_name = f'Config Config{config_id}'\n",
    "    config[section_name] = {\n",
    "        'description': f'Configuration with Strategy={strategy}, N={N}, lambda={lamb}s, m1={m1}s, m2={m2}s, pDistribution = uniform({a}, {b}), vDistribution = uniform({c}, {d})',\n",
    "        '**.Strategy': strategy,\n",
    "        '**.lambda': f'{lamb}s',\n",
    "        '**.m1': f'{m1}s',\n",
    "        '**.m2': f'{m2}s',\n",
    "        '**.pDistribution': f'uniform({a}, {b})',\n",
    "        '**.vDistribution': f'uniform({c}, {d})',\n",
    "        '**.CW': '1.0',\n",
    "        '**.N': str(N)\n",
    "    }\n",
    "    config_id += 1\n",
    "\n",
    "# Scrittura delle configurazioni su file\n",
    "with open('config_file.ini', 'w') as configfile:\n",
    "    config.write(configfile)\n",
    "\n",
    "print(\"File di configurazione generato con successo: config_file.ini\")\n"
   ]
  }
 ],
 "metadata": {
  "kernelspec": {
   "display_name": "inifile",
   "language": "python",
   "name": "python3"
  },
  "language_info": {
   "codemirror_mode": {
    "name": "ipython",
    "version": 3
   },
   "file_extension": ".py",
   "mimetype": "text/x-python",
   "name": "python",
   "nbconvert_exporter": "python",
   "pygments_lexer": "ipython3",
   "version": "3.12.3"
  }
 },
 "nbformat": 4,
 "nbformat_minor": 2
}
